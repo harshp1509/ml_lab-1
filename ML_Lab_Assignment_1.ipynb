{
  "nbformat": 4,
  "nbformat_minor": 0,
  "metadata": {
    "colab": {
      "provenance": []
    },
    "kernelspec": {
      "name": "python3",
      "display_name": "Python 3"
    },
    "language_info": {
      "name": "python"
    }
  },
  "cells": [
    {
      "cell_type": "markdown",
      "source": [
        "**MACHINE LEARNING LAB - 1** (August 2022, Week -1)"
      ],
      "metadata": {
        "id": "uk0xy6cDcaMv"
      }
    },
    {
      "cell_type": "markdown",
      "source": [
        "**Python Practice**"
      ],
      "metadata": {
        "id": "fA9HyHDFf-1D"
      }
    },
    {
      "cell_type": "markdown",
      "source": [
        "**Q1.** Write a function that converts a decimal number to binary number."
      ],
      "metadata": {
        "id": "SXRWDEoafsxk"
      }
    },
    {
      "cell_type": "code",
      "source": [
        "def decimalToBinary(num):\n",
        "  binary=\"\";\n",
        "  while(num):\n",
        "    binary+=str(num%2)\n",
        "    num=num//2\n",
        "  binary=binary[::-1]\n",
        "  print(binary)\n",
        "\n",
        "decimalToBinary(10)"
      ],
      "metadata": {
        "id": "jIi9SNXNkWzU",
        "colab": {
          "base_uri": "https://localhost:8080/"
        },
        "outputId": "a73981e1-59b2-4f99-d89d-a7c17471e438"
      },
      "execution_count": null,
      "outputs": [
        {
          "output_type": "stream",
          "name": "stdout",
          "text": [
            "1010\n"
          ]
        }
      ]
    },
    {
      "cell_type": "markdown",
      "source": [
        "**Q2.** Write a function to compute the sigmoid of a vector of values. <br> \n",
        "A sigmoid of a real number $x$ is defind as $\\sigma(x)$ = $\\frac{1}{1+e^-x}$ <br>\n",
        "For example:\n",
        "Input: $[x_{1}, x_{2}, x_{3}, x_{4}]$ <br>\n",
        "Output: $[\\sigma{(x_{1})}, \\sigma{(x_{2})}, \\sigma{(x_{3})}, \\sigma{(x_{4})}]$"
      ],
      "metadata": {
        "id": "xt7kX48_0XaV"
      }
    },
    {
      "cell_type": "code",
      "source": [
        "import numpy as np\n",
        "\n",
        "def sigmoid(input):\n",
        "  for i in range(len(input)):\n",
        "    input[i]=-1*input[i]\n",
        "  output=1/(1+np.exp(input))\n",
        "  return output\n",
        "\n",
        "print(sigmoid([1,2,3,4]))"
      ],
      "metadata": {
        "id": "8Bz_ilfl4URb",
        "colab": {
          "base_uri": "https://localhost:8080/"
        },
        "outputId": "c1286cd1-c8a2-49fc-f1b1-2251fbe8ad81"
      },
      "execution_count": null,
      "outputs": [
        {
          "output_type": "stream",
          "name": "stdout",
          "text": [
            "[0.73105858 0.88079708 0.95257413 0.98201379]\n"
          ]
        }
      ]
    },
    {
      "cell_type": "markdown",
      "source": [
        "**Q3.** Write a function to compute the derivative of the sigmoid function with respect to its input $x$. Here, the $x$ is a vector. <br> \n",
        "The derivative of a sigmoid is defined as: $\\sigma(x)(1 - \\sigma(x))$\n",
        "<br>\n",
        "*TRY TO PROVE THIS IN YOUR COPY*"
      ],
      "metadata": {
        "id": "pZ7WEw2O4uA5"
      }
    },
    {
      "cell_type": "code",
      "source": [
        "def deriSigmoid(input):\n",
        "\n",
        "  return sigmoid(input)*(1-sigmoid(input))\n",
        "\n",
        "print(deriSigmoid([1,2,3,4]))"
      ],
      "metadata": {
        "id": "0L1pX5VX5rFP",
        "colab": {
          "base_uri": "https://localhost:8080/"
        },
        "outputId": "65dab042-2411-49cb-847f-d680411971c1"
      },
      "execution_count": null,
      "outputs": [
        {
          "output_type": "stream",
          "name": "stdout",
          "text": [
            "[0.53444665 0.77580349 0.90739747 0.96435108]\n"
          ]
        }
      ]
    },
    {
      "cell_type": "markdown",
      "source": [
        "**Q4.** Write a function to normalize the rows of a matrix. After applying this function to an input matrix $x$ of size $m \\times n$, each row of $x$ should be a vector of unit length."
      ],
      "metadata": {
        "id": "hbwpF7Uo6Cqp"
      }
    },
    {
      "cell_type": "code",
      "source": [
        "import math as math\n",
        "def normalization(mat):\n",
        "  for i in range(len(mat)):\n",
        "    sum=0\n",
        "    for j in range(len(mat[0])):\n",
        "      sum+=mat[i][j]*mat[i][j]\n",
        "    sum=math.sqrt(sum)\n",
        "    for j in range(len(mat[0])):\n",
        "      mat[i][j]=mat[i][j]/sum\n",
        "    \n",
        "  return mat\n",
        "\n",
        "print(normalization([[1,3,5],[2,6,9]]))\n"
      ],
      "metadata": {
        "id": "PTn3Oh_761Ds",
        "colab": {
          "base_uri": "https://localhost:8080/"
        },
        "outputId": "55b3a11d-3852-4675-a3d0-427cdd186930"
      },
      "execution_count": null,
      "outputs": [
        {
          "output_type": "stream",
          "name": "stdout",
          "text": [
            "[[0.1690308509457033, 0.50709255283711, 0.8451542547285166], [0.18181818181818182, 0.5454545454545454, 0.8181818181818182]]\n"
          ]
        }
      ]
    },
    {
      "cell_type": "markdown",
      "source": [
        "**Q5.** Write a program which can map() and filter() to make a list whose elements are cube of even numbers in a list."
      ],
      "metadata": {
        "id": "fscgrzEXgV1s"
      }
    },
    {
      "cell_type": "code",
      "source": [
        "def cubeOfEven(input):\n",
        "  output = list(map(lambda x: x**3,filter(lambda x: x%2==0, input)))\n",
        "  return output\n",
        "\n",
        "print(cubeOfEven([1,2,3,4,5,6,7,8,9,10]))"
      ],
      "metadata": {
        "id": "5F6Us42VkmjS",
        "colab": {
          "base_uri": "https://localhost:8080/"
        },
        "outputId": "85fd21d0-20d5-40d0-922c-23a840ae965d"
      },
      "execution_count": null,
      "outputs": [
        {
          "output_type": "stream",
          "name": "stdout",
          "text": [
            "[8, 64, 216, 512, 1000]\n"
          ]
        }
      ]
    },
    {
      "cell_type": "markdown",
      "source": [
        "\n",
        "**Q6.** consider the marks list of class students given two lists <br>\n",
        "Students = ['student1','student2','student3','student4','student5','student6','student7','student8','student9','student10'] <br>\n",
        "Marks = [45, 78, 12, 14, 48, 43, 45, 98, 35, 80] <br>\n",
        "from the above two lists the Student[0] got Marks[0],  Student[1] got Marks[1] and so on <br><br>\n",
        "your task is to print the name of students <br>\n",
        "<strong>a. Who got top 5 ranks, in the descending order of marks</strong> <br>\n",
        "<strong>b. Who got least 5 ranks, in the increasing order of marks</strong><br>\n",
        "<strong>d. Who got marks between  &gt;25th percentile &lt;75th percentile, in the increasing order of marks</strong>\n",
        "\n",
        "<pre>\n",
        "Ex 1: \n",
        "Students=['student1','student2','student3','student4','student5','student6','student7','student8','student9','student10'] \n",
        "Marks = [45, 78, 12, 14, 48, 43, 47, 98, 35, 80]\n",
        "a. \n",
        "student8  98\n",
        "student10 80\n",
        "student2  78\n",
        "student5  48\n",
        "student7  47\n",
        "b.\n",
        "student3 12\n",
        "student4 14\n",
        "student9 35\n",
        "student6 43\n",
        "student1 45\n",
        "c.\n",
        "student9 35\n",
        "student6 43\n",
        "student1 45\n",
        "student7 47\n",
        "student5 48\n",
        "</pre>"
      ],
      "metadata": {
        "id": "Du2HiJZzcqA9"
      }
    },
    {
      "cell_type": "code",
      "execution_count": null,
      "metadata": {
        "id": "jmQPiIBMcWpa",
        "colab": {
          "base_uri": "https://localhost:8080/"
        },
        "outputId": "a922bae2-1144-4817-b5e9-9965cdb22aa0"
      },
      "outputs": [
        {
          "output_type": "stream",
          "name": "stdout",
          "text": [
            "{'student8': 98, 'student10': 80, 'student2': 78, 'student5': 48, 'student7': 47}\n",
            "{'student3': 12, 'student4': 14, 'student9': 35, 'student6': 43, 'student1': 45}\n",
            "{'student9': 35, 'student6': 43, 'student1': 45, 'student7': 47, 'student5': 48}\n"
          ]
        }
      ],
      "source": [
        "def sortTheDict(students,marks):\n",
        "  result ={}\n",
        "  for i in range(len(marks)):\n",
        "    result[students[i]]=marks[i]\n",
        "  result= dict(sorted(result.items(), key=lambda x: x[1]))\n",
        "  return result\n",
        "\n",
        "def topFive(result):\n",
        "  result= dict(sorted(result.items(), key=lambda x: x[1], reverse=True))\n",
        "  tfive={}\n",
        "  cnt=0\n",
        "  for key in result.keys():\n",
        "    tfive[key]=result[key]\n",
        "    cnt+=1\n",
        "    if cnt==5:\n",
        "      break\n",
        "  return tfive\n",
        "\n",
        "def conditionalMarks(result):\n",
        "  conMarks={}\n",
        "  for key in result.keys():\n",
        "    if result[key]>25 and result[key]<75:\n",
        "      conMarks[key]=result[key]\n",
        "  \n",
        "  return conMarks\n",
        "\n",
        "def lastFive(result):\n",
        "  lfive={}\n",
        "  cnt=0\n",
        "  for key in result.keys():\n",
        "    lfive[key]=result[key]\n",
        "    cnt+=1\n",
        "    if cnt==5:\n",
        "      break\n",
        "  return lfive\n",
        "\n",
        "Students=['student1','student2','student3','student4','student5','student6','student7','student8','student9','student10'] \n",
        "Marks = [45, 78, 12, 14, 48, 43, 47, 98, 35, 80]\n",
        "\n",
        "result=sortTheDict(Students,Marks)\n",
        "print(topFive(result));\n",
        "print(lastFive(result));\n",
        "print(conditionalMarks(result));"
      ]
    },
    {
      "cell_type": "markdown",
      "source": [
        "**Q7.** consider you have given n data points in the form of list of tuples like S=[(x1,y1),(x2,y2),(x3,y3),(x4,y4),(x5,y5),..,(xn,yn)] and a point P=(p,q) <br> your task is to find 5 closest points(based on cosine distance) in S from P\n",
        "<brs (x,y) and (p,q) is defind as $cos^{-1}(\\frac{(x\\cdot p+y\\cdot q)}{\\sqrt(x^2+y^2)\\cdot\\sqrt(p^2+q^2)})$>cosine distance between two point\n",
        "<pre>\n",
        "Ex:\n",
        "\n",
        "S= [(1,2),(3,4),(-1,1),(6,-7),(0, 6),(-5,-8),(-1,-1)(6,0),(1,-1)]\n",
        "P= (3,-4)\n",
        "\n",
        "Output:\n",
        "(6,-7)\n",
        "(1,-1)\n",
        "(6,0)\n",
        "(-5,-8)\n",
        "(-1,-1)\n",
        "</pre>"
      ],
      "metadata": {
        "id": "OqdED0G6dH_0"
      }
    },
    {
      "cell_type": "code",
      "source": [
        "import math\n",
        "S= [(1,2),(3,4),(-1,1),(6,-7),(0, 6),(-5,-8),(-1,-1),(6,0),(1,-1)]\n",
        "P= (3,-4)\n",
        "cosine_dist=[]\n",
        "for a, b in S:\n",
        "  num = a * P[0] + b * P[1]\n",
        "  den = math.sqrt(a * a + b * b) * math.sqrt(P[0] * P[0] + P[1] * P[1])\n",
        "  cosine_dist.append(math.acos (num/den))\n",
        "X = cosine_dist\n",
        "Y = [S for S in sorted(zip(S,X), key=lambda i:i[1])]\n",
        "k = Y[:5]\n",
        "for i,j in k:\n",
        "  print(i)\n",
        "  \n",
        "  "
      ],
      "metadata": {
        "id": "OZmPOIp-d3sN",
        "colab": {
          "base_uri": "https://localhost:8080/"
        },
        "outputId": "57ea1492-eb24-4680-de41-de20fc87cd16"
      },
      "execution_count": null,
      "outputs": [
        {
          "output_type": "stream",
          "name": "stdout",
          "text": [
            "(6, -7)\n",
            "(1, -1)\n",
            "(6, 0)\n",
            "(-5, -8)\n",
            "(-1, -1)\n"
          ]
        }
      ]
    },
    {
      "cell_type": "markdown",
      "source": [
        "**Q8:** Given two sentences S1, S2\n",
        "You will be given a list of lists, each sublist will be of length 2 i.e. [[x,y],[p,q],[l,m]..[r,s]]\n",
        "consider its like a matrix of n rows and two columns\n",
        "\n",
        "a. the first column Y will contain interger values <br>\n",
        "b. the second column $Y_{score}$ will be having float values <br>\n",
        "Your task is to find the value of $f(Y,Y_{score}) = -1*\\frac{1}{n}\\Sigma_{for each Y,Y_{score} pair}(Ylog10(Y_{score})+(1-Y)log10(1-Y_{score}))$ here n is the number of rows in the matrix\n",
        "<pre>\n",
        "Ex:\n",
        "[[1, 0.4], [0, 0.5], [0, 0.9], [0, 0.3], [0, 0.6], [1, 0.1], [1, 0.9], [1, 0.8]]\n",
        "output:\n",
        "0.4243099\n",
        "</pre>\n",
        "$\\frac{-1}{8}\\cdot((1\\cdot log_{10}(0.4)+0\\cdot log_{10}(0.6))+(0\\cdot log_{10}(0.5)+1\\cdot log_{10}(0.5)) + ... + (1\\cdot log_{10}(0.8)+0\\cdot log_{10}(0.2)) )$"
      ],
      "metadata": {
        "id": "6VHCfjFod6Nc"
      }
    },
    {
      "cell_type": "code",
      "source": [
        "import math\n",
        "sum=0\n",
        "lists=[[1, 0.4], [0, 0.5], [0, 0.9], [0, 0.3], [0, 0.6], [1, 0.1], [1, 0.9], [1, 0.8]]\n",
        "for i in range(len(lists)):\n",
        "  sum+=lists[i][0]*(math.log(lists[i][1],10))\n",
        "  sum+=(1-lists[i][0])*(math.log((1-lists[i][1]),10))\n",
        "sum=(-1*sum)/len(lists)\n",
        "\n",
        "print(sum)\n"
      ],
      "metadata": {
        "id": "Gdq7LciXeqJ1",
        "colab": {
          "base_uri": "https://localhost:8080/"
        },
        "outputId": "edf1fb49-aa99-4288-fc1d-9b2728f9d31a"
      },
      "execution_count": null,
      "outputs": [
        {
          "output_type": "stream",
          "name": "stdout",
          "text": [
            "0.42430993457031635\n"
          ]
        }
      ]
    }
  ]
}